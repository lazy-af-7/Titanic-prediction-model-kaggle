{
 "cells": [
  {
   "cell_type": "code",
   "execution_count": 1,
   "metadata": {},
   "outputs": [],
   "source": [
    "import pandas as pd\n",
    "import numpy as np\n",
    "\n",
    "test=pd.read_csv('test.csv')"
   ]
  },
  {
   "cell_type": "code",
   "execution_count": 2,
   "metadata": {},
   "outputs": [
    {
     "name": "stdout",
     "output_type": "stream",
     "text": [
      "   PassengerId  Pclass                                          Name     Sex  \\\n",
      "0          892       3                              Kelly, Mr. James    male   \n",
      "1          893       3              Wilkes, Mrs. James (Ellen Needs)  female   \n",
      "2          894       2                     Myles, Mr. Thomas Francis    male   \n",
      "3          895       3                              Wirz, Mr. Albert    male   \n",
      "4          896       3  Hirvonen, Mrs. Alexander (Helga E Lindqvist)  female   \n",
      "\n",
      "    Age  SibSp  Parch   Ticket     Fare Cabin Embarked  \n",
      "0  34.5      0      0   330911   7.8292   NaN        Q  \n",
      "1  47.0      1      0   363272   7.0000   NaN        S  \n",
      "2  62.0      0      0   240276   9.6875   NaN        Q  \n",
      "3  27.0      0      0   315154   8.6625   NaN        S  \n",
      "4  22.0      1      1  3101298  12.2875   NaN        S  \n"
     ]
    }
   ],
   "source": [
    "print (test.head())"
   ]
  },
  {
   "cell_type": "code",
   "execution_count": 3,
   "metadata": {},
   "outputs": [
    {
     "name": "stdout",
     "output_type": "stream",
     "text": [
      "   PassengerId  Survived  Pclass  \\\n",
      "0            1         0       3   \n",
      "1            2         1       1   \n",
      "2            3         1       3   \n",
      "3            4         1       1   \n",
      "4            5         0       3   \n",
      "\n",
      "                                                Name     Sex   Age  SibSp  \\\n",
      "0                            Braund, Mr. Owen Harris    male  22.0      1   \n",
      "1  Cumings, Mrs. John Bradley (Florence Briggs Th...  female  38.0      1   \n",
      "2                             Heikkinen, Miss. Laina  female  26.0      0   \n",
      "3       Futrelle, Mrs. Jacques Heath (Lily May Peel)  female  35.0      1   \n",
      "4                           Allen, Mr. William Henry    male  35.0      0   \n",
      "\n",
      "   Parch            Ticket     Fare Cabin Embarked  \n",
      "0      0         A/5 21171   7.2500   NaN        S  \n",
      "1      0          PC 17599  71.2833   C85        C  \n",
      "2      0  STON/O2. 3101282   7.9250   NaN        S  \n",
      "3      0            113803  53.1000  C123        S  \n",
      "4      0            373450   8.0500   NaN        S  \n"
     ]
    }
   ],
   "source": [
    "train=pd.read_csv('train.csv')\n",
    "print (train.head())"
   ]
  },
  {
   "cell_type": "code",
   "execution_count": 6,
   "metadata": {},
   "outputs": [
    {
     "name": "stdout",
     "output_type": "stream",
     "text": [
      "             PassengerId  Survived    Pclass  Sex       Age     SibSp  \\\n",
      "PassengerId     1.000000 -0.005007 -0.035144  NaN  0.033207 -0.057527   \n",
      "Survived       -0.005007  1.000000 -0.338481  NaN -0.069809 -0.035322   \n",
      "Pclass         -0.035144 -0.338481  1.000000  NaN -0.331339  0.083081   \n",
      "Sex                  NaN       NaN       NaN  NaN       NaN       NaN   \n",
      "Age             0.033207 -0.069809 -0.331339  NaN  1.000000 -0.232625   \n",
      "SibSp          -0.057527 -0.035322  0.083081  NaN -0.232625  1.000000   \n",
      "Parch          -0.001652  0.081629  0.018443  NaN -0.179191  0.414838   \n",
      "Fare            0.012658  0.257307 -0.549500  NaN  0.091566  0.159651   \n",
      "Embarked             NaN       NaN       NaN  NaN       NaN       NaN   \n",
      "\n",
      "                Parch      Fare  Embarked  \n",
      "PassengerId -0.001652  0.012658       NaN  \n",
      "Survived     0.081629  0.257307       NaN  \n",
      "Pclass       0.018443 -0.549500       NaN  \n",
      "Sex               NaN       NaN       NaN  \n",
      "Age         -0.179191  0.091566       NaN  \n",
      "SibSp        0.414838  0.159651       NaN  \n",
      "Parch        1.000000  0.216225       NaN  \n",
      "Fare         0.216225  1.000000       NaN  \n",
      "Embarked          NaN       NaN       NaN  \n",
      "[0 0 1 1 1 0 0 1 1 0 0 0 1 0 0 1 1 1 1 0 1 0 1 1 1 0 1 1 1 0 0 1 0 0 1 1 0\n",
      " 0 0 1 0 0 0 0 0 0 0 0 1 0 1 0 1 1 0 0 0 0 0 1 0 1 0 1 1 1 1 0 0 0 0 0 0 1\n",
      " 1 1 0 0 0 0 1 1 1 0 0 0 1 1 0 1 0 0 1 0 1 0 1 0 0 0 1 0 0 0 0 0 0 0 0 0 1\n",
      " 0 1 0 1 0 0 1 1 1 1 0 1 0 0 0 0 1 1 0 1 0 0 0 0 0 0 0 0 0 0 1 1 1 1 0 1 0\n",
      " 0 0 1 0 0 0 0 0 0 0 1 1 0 1 0 0 1 1 1 0 0 0 0 0 0 0 0 1 1 0 1 0 0 1 0 0 0\n",
      " 1 1 0 0 1 0 0 0 0 1 0 1 0 0 0 0 1 1 1 0 0 0 0 0 0 0 0 0 0 0 0 1 1 1 0 1 0\n",
      " 1 1 1 0 0 0 0 1 1 1 0 1 1 0 1 1 1 0 0 0 1 0 0 0 0 1 1 0 1 0 1 0 0 0 0 0 0\n",
      " 0 1 0 1 1 1 0 0 0 0 0 0 0 1 0 0 1 0 0 1 1 0 1 0 0 0 0 0 1 0 0 0 0 0 1 0 0\n",
      " 1 0 0 0 0 0 1 0 0 0 1 1 1 0 0 1 0 0 1 0 1 1 1 1 0 0 0 1 1 0 1 0 1 0 1 1 0\n",
      " 1 0 0 1 0 0 0 1 0 0 1 0 1 0 0 1 1 1 0 0 1 1 1 0 1 0 0 0 0 1 1 1 0 0 0 1 1\n",
      " 0 1 0 1 1 1 0 0 0 1 0 1 0 0 0 1 0 0 0 0 1 0 1 1 1 1 0 1 1 0 1 0 1 1 1 1 0\n",
      " 1 0 1 0 1 0 0 1 0 0 1]\n",
      "[[0.4 0.6]]\n"
     ]
    }
   ],
   "source": [
    "from sklearn.ensemble import RandomForestClassifier\n",
    "classifier=RandomForestClassifier(n_estimators=1000,random_state=1)\n",
    "train['Sex']=train.Sex.apply(lambda x: 1 if x=='male' else 0)\n",
    "test['Sex']=test.Sex.apply(lambda x: 1 if x=='male' else 0)\n",
    "train['Embarked']=train.Embarked.apply(lambda x: 1 if x=='S' else 0)\n",
    "test['Embarked']=test.Embarked.apply(lambda x: 1 if x=='S' else 0)\n",
    "mean_ages=np.mean(train.Age.array)\n",
    "train['Age'].fillna(mean_ages,inplace=True)\n",
    "mean_ages=np.mean(test.Age.array)\n",
    "test.Age.fillna(mean_ages,inplace=True)\n",
    "test.fillna(np.mean(test.Fare.array),inplace=True)\n",
    "print (train.corr())\n",
    "train_data=train[['Sex','Pclass','Age','Fare','Parch','Embarked']]\n",
    "train_labels=train['Survived']\n",
    "\n",
    "test_data=test[['Sex','Pclass','Age','Fare','Parch','Embarked']]\n",
    "classifier.fit(train_data,train_labels)\n",
    "predictions=(classifier.predict(test_data))\n",
    "print (predictions)\n",
    "my_data=[[0,2,18,30,0,1]]\n",
    "print (classifier.predict_proba(my_data))\n"
   ]
  },
  {
   "cell_type": "code",
   "execution_count": 10,
   "metadata": {},
   "outputs": [
    {
     "name": "stdout",
     "output_type": "stream",
     "text": [
      "   PassengerId  Survived\n",
      "0          892         0\n",
      "1          893         0\n",
      "2          894         1\n",
      "3          895         1\n",
      "4          896         1\n"
     ]
    }
   ],
   "source": [
    "df=pd.DataFrame({'PassengerId':test['PassengerId'],'Survived':predictions})\n",
    "print (df.head())"
   ]
  },
  {
   "cell_type": "code",
   "execution_count": 11,
   "metadata": {},
   "outputs": [],
   "source": [
    "df.to_csv('out.csv',header=True,index=False)"
   ]
  },
  {
   "cell_type": "code",
   "execution_count": null,
   "metadata": {},
   "outputs": [],
   "source": []
  }
 ],
 "metadata": {
  "kernelspec": {
   "display_name": "Python 3",
   "language": "python",
   "name": "python3"
  },
  "language_info": {
   "codemirror_mode": {
    "name": "ipython",
    "version": 3
   },
   "file_extension": ".py",
   "mimetype": "text/x-python",
   "name": "python",
   "nbconvert_exporter": "python",
   "pygments_lexer": "ipython3",
   "version": "3.7.6"
  }
 },
 "nbformat": 4,
 "nbformat_minor": 4
}
