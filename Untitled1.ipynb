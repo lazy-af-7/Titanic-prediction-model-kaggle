{
 "cells": [
  {
   "cell_type": "code",
   "execution_count": 52,
   "metadata": {},
   "outputs": [
    {
     "data": {
      "image/png": "[encoded data removed]",
      "text/plain": [
       "<Figure size 432x288 with 1 Axes>"
      ]
     },
     "metadata": {
      "needs_background": "light"
     },
     "output_type": "display_data"
    },
    {
     "name": "stdout",
     "output_type": "stream",
     "text": [
      "[0.8044692737430168, 0.7988826815642458, 0.776536312849162, 0.6089385474860335]\n"
     ]
    }
   ],
   "source": [
    "import numpy as np\n",
    "import pandas as pd\n",
    "from sklearn.model_selection import train_test_split\n",
    "from sklearn.ensemble import RandomForestClassifier\n",
    "from sklearn.neighbors import KNeighborsClassifier\n",
    "from sklearn.naive_bayes import GaussianNB\n",
    "from sklearn.svm import SVC\n",
    "from matplotlib import pyplot as plt\n",
    "import seaborn as sns\n",
    "score=[]\n",
    "test=pd.read_csv('test.csv')\n",
    "test['Embarked']=test.Embarked.apply(lambda x: 1 if x=='S' else 0)\n",
    "test['Sex']=test.Sex.apply(lambda x: 1 if x=='male' else 0)\n",
    "mean_ages=np.mean(test.Age.array)\n",
    "test.Age.fillna(mean_ages,inplace=True)\n",
    "test.fillna(np.mean(test.Fare.array),inplace=True)\n",
    "pa=test['PassengerId']\n",
    "test=test[['Sex','Pclass','Fare','Embarked']]\n",
    "model_labels=range(1,5)\n",
    "train=pd.read_csv('train.csv')\n",
    "train['Sex']=train.Sex.apply(lambda x: 1 if x=='male' else 0)\n",
    "mean_ages=np.mean(train.Age.array)\n",
    "train['Age'].fillna(mean_ages,inplace=True)\n",
    "train['Embarked']=train.Embarked.apply(lambda x: 1 if x=='S' else 0)\n",
    "labels=train['Survived']\n",
    "train=train[['Sex','Pclass','Fare','Embarked']]\n",
    "train_data,test_data,train_labels,test_labels=train_test_split(train,labels,test_size=0.2,random_state=1)\n",
    "model=RandomForestClassifier(n_estimators=300,max_depth=10,random_state=1)\n",
    "model.fit(train_data,train_labels)\n",
    "predict=model.predict(test)\n",
    "score.append(model.score(test_data,test_labels))\n",
    "model=KNeighborsClassifier(n_neighbors=5)\n",
    "model.fit(train_data,train_labels)\n",
    "score.append(model.score(test_data,test_labels))\n",
    "model=GaussianNB()\n",
    "model.fit(train_data,train_labels)\n",
    "score.append(model.score(test_data,test_labels))\n",
    "model=SVC()\n",
    "model.fit(train_data,train_labels)\n",
    "score.append(model.score(test_data,test_labels))\n",
    "plt.bar(range(1,5),score)\n",
    "plt.show()\n",
    "print (score)"
   ]
  },
  {
   "cell_type": "code",
   "execution_count": 53,
   "metadata": {},
   "outputs": [],
   "source": [
    "df=pd.DataFrame({'PassengerId':pa,'Survived':predict})\n",
    "df.to_csv('out.csv',index=False,header=True)"
   ]
  },
  {
   "cell_type": "code",
   "execution_count": 49,
   "metadata": {},
   "outputs": [
    {
     "name": "stdout",
     "output_type": "stream",
     "text": [
      "   PassengerId  Survived\n",
      "0          892         0\n",
      "1          893         1\n",
      "2          894         0\n",
      "3          895         0\n",
      "4          896         1\n"
     ]
    }
   ],
   "source": [
    "print (df.head())"
   ]
  },
  {
   "cell_type": "code",
   "execution_count": null,
   "metadata": {},
   "outputs": [],
   "source": []
  }
 ],
 "metadata": {
  "kernelspec": {
   "display_name": "Python 3",
   "language": "python",
   "name": "python3"
  },
  "language_info": {
   "codemirror_mode": {
    "name": "ipython",
    "version": 3
   },
   "file_extension": ".py",
   "mimetype": "text/x-python",
   "name": "python",
   "nbconvert_exporter": "python",
   "pygments_lexer": "ipython3",
   "version": "3.7.6"
  }
 },
 "nbformat": 4,
 "nbformat_minor": 4
}
